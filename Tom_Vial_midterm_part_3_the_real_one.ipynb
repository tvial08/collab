{
  "nbformat": 4,
  "nbformat_minor": 0,
  "metadata": {
    "colab": {
      "provenance": [],
      "include_colab_link": true
    },
    "kernelspec": {
      "name": "python3",
      "display_name": "Python 3"
    },
    "language_info": {
      "name": "python"
    }
  },
  "cells": [
    {
      "cell_type": "markdown",
      "metadata": {
        "id": "view-in-github",
        "colab_type": "text"
      },
      "source": [
        "<a href=\"https://colab.research.google.com/github/tvial08/collab/blob/main/Tom_Vial_midterm_part_3_the_real_one.ipynb\" target=\"_parent\"><img src=\"https://colab.research.google.com/assets/colab-badge.svg\" alt=\"Open In Colab\"/></a>"
      ]
    },
    {
      "cell_type": "code",
      "execution_count": null,
      "metadata": {
        "id": "qo4orOh1QzrR"
      },
      "outputs": [],
      "source": [
        "import numpy as np # This is a directory with a set of tools\n",
        "import matplotlib.pyplot as plt # matplotlib is a directory with a set of tools just like numpy"
      ]
    },
    {
      "cell_type": "code",
      "source": [
        "X = np.array([12,9,20,7,2])    # an array of numbers for x\n",
        "Y = np.array([38,28,63,22,6])  # an array of numbers for y"
      ],
      "metadata": {
        "id": "eDdfNy1YQ5VO"
      },
      "execution_count": null,
      "outputs": []
    },
    {
      "cell_type": "code",
      "source": [
        "plt.plot(X,Y,'g.') # this plots of a graph of x and y "
      ],
      "metadata": {
        "id": "bwEzkndjRAw-",
        "colab": {
          "base_uri": "https://localhost:8080/",
          "height": 283
        },
        "outputId": "637a56d5-3495-48bd-a211-f6ae1b1ef32e"
      },
      "execution_count": null,
      "outputs": [
        {
          "output_type": "execute_result",
          "data": {
            "text/plain": [
              "[<matplotlib.lines.Line2D at 0x7ff5fe432910>]"
            ]
          },
          "metadata": {},
          "execution_count": 19
        },
        {
          "output_type": "display_data",
          "data": {
            "text/plain": [
              "<Figure size 432x288 with 1 Axes>"
            ],
            "image/png": "[encoded data removed]"
          },
          "metadata": {
            "needs_background": "light"
          }
        }
      ]
    },
    {
      "cell_type": "code",
      "source": [
        "m_guess = 0 #the initial guess for m\n",
        "b_guess = 0 #the initial guess for b"
      ],
      "metadata": {
        "id": "8pUDOa2bRYWY"
      },
      "execution_count": null,
      "outputs": []
    },
    {
      "cell_type": "markdown",
      "source": [
        "$y=mx+b$"
      ],
      "metadata": {
        "id": "9pkUPkbzSwtL"
      }
    },
    {
      "cell_type": "code",
      "source": [
        "m_guess * X + b_guess # the integration of the guesses in the equation of a line. "
      ],
      "metadata": {
        "colab": {
          "base_uri": "https://localhost:8080/"
        },
        "id": "ThmiCA2ISHIZ",
        "outputId": "852964e3-51c4-4578-fd76-6cb95463d778"
      },
      "execution_count": null,
      "outputs": [
        {
          "output_type": "execute_result",
          "data": {
            "text/plain": [
              "array([0, 0, 0, 0, 0])"
            ]
          },
          "metadata": {},
          "execution_count": 22
        }
      ]
    },
    {
      "cell_type": "code",
      "source": [
        "y_guess = m_guess * X + b_guess # Intergrating the guesses in the form of y = mx+b"
      ],
      "metadata": {
        "id": "ndLRAbo0SMlI"
      },
      "execution_count": null,
      "outputs": []
    },
    {
      "cell_type": "code",
      "source": [
        "y_guess - Y # Calculating the difference between the values of y and the guessed values."
      ],
      "metadata": {
        "id": "tcznOFlBS_r6",
        "outputId": "a78ea9ab-5f5a-4058-c46e-15f36dc3d54f",
        "colab": {
          "base_uri": "https://localhost:8080/"
        }
      },
      "execution_count": null,
      "outputs": [
        {
          "output_type": "execute_result",
          "data": {
            "text/plain": [
              "array([-38, -28, -63, -22,  -6])"
            ]
          },
          "metadata": {},
          "execution_count": 24
        }
      ]
    },
    {
      "cell_type": "code",
      "source": [
        "np.sum((y_guess - Y)**2) # This function squares the difference between the values of y and the guessed values."
      ],
      "metadata": {
        "id": "tCDXN_yNTlHb",
        "colab": {
          "base_uri": "https://localhost:8080/"
        },
        "outputId": "29435d6c-38ce-422d-d292-bfb74a7fbbe9"
      },
      "execution_count": null,
      "outputs": [
        {
          "output_type": "execute_result",
          "data": {
            "text/plain": [
              "6717"
            ]
          },
          "metadata": {},
          "execution_count": 25
        }
      ]
    },
    {
      "cell_type": "code",
      "source": [
        "loss = np.sum((y_guess - Y)**2) # This allows to attribute a function to the word \"loss\""
      ],
      "metadata": {
        "id": "KqzZP0KBUQfr"
      },
      "execution_count": null,
      "outputs": []
    },
    {
      "cell_type": "code",
      "source": [
        "best_loss_so_far = 1000000000000 #The big value overwrites the function\n",
        "m_best = 0 # this keeps track of the best m value \n",
        "b_best = 0 # this keeps track of the best b value\n",
        "for m_guess in np.linspace(-100,100,100): # This gets 100 numbers from a range of -100 to 100 for the m_guess\n",
        "    for b_guess in np.linspace(-100,100,100):# This gets 100 numbers from a range of -100 to 100 for the b_guess\n",
        "        \n",
        "        y_guess = m_guess * X + b_guess\n",
        "\n",
        "        loss = np.sum((y_guess - Y)**2) # This calculates the loss and squares it to remove the negative signs\n",
        "\n",
        "        if loss < best_loss_so_far: # This is a if function to set an certain action for a certain situation\n",
        "            m_best = m_guess # The best value equals the guess from m\n",
        "            b_best = b_guess# The best value equals the guess from b\n",
        "            best_loss_so_far = loss # This reassigns the best loss from the current loss to its variable by equating it \n",
        "\n",
        "print(\"Found best fit:\") # This prints the sentence \"Found best fit\"\n",
        "print(m_best,b_best,loss)# This prints the function \"m_best,b_best,loss\""
      ],
      "metadata": {
        "colab": {
          "base_uri": "https://localhost:8080/"
        },
        "id": "dxa0jobTWMg8",
        "outputId": "fc1db318-9f0a-4904-bdd5-bde95b389be1"
      },
      "execution_count": null,
      "outputs": [
        {
          "output_type": "stream",
          "name": "stdout",
          "text": [
            "Found best fit:\n",
            "3.030303030303031 1.0101010101010104 7378517.0\n"
          ]
        }
      ]
    },
    {
      "cell_type": "code",
      "source": [],
      "metadata": {
        "id": "6yu1KMv7WXy7"
      },
      "execution_count": null,
      "outputs": []
    }
  ]
}